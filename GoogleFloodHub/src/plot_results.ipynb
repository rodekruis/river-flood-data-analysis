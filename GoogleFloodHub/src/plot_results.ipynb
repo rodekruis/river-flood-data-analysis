{
 "cells": [
  {
   "cell_type": "markdown",
   "id": "9ae31256",
   "metadata": {},
   "source": [
    "# **Notebook for plotting results generated with GRRR notebooks**"
   ]
  },
  {
   "cell_type": "markdown",
   "id": "f6f3fb6c",
   "metadata": {},
   "source": [
    "First, we import all the results we want into a workable structure so we can easily index dimensions we need for plots"
   ]
  },
  {
   "cell_type": "code",
   "execution_count": null,
   "id": "73e9fc6b",
   "metadata": {},
   "outputs": [],
   "source": [
    "#! Note: misschien zijn de GloFAS resultaten ookwel te plotten door ze handmatig in te voeren?"
   ]
  },
  {
   "cell_type": "code",
   "execution_count": 8,
   "id": "84d72a28",
   "metadata": {},
   "outputs": [],
   "source": [
    "from typing import List, Tuple, Dict, Any\n",
    "import numpy as np\n",
    "import pandas as pd\n",
    "import geopandas as gpd\n",
    "import matplotlib.pyplot as plt"
   ]
  },
  {
   "cell_type": "code",
   "execution_count": 46,
   "id": "0d624c46",
   "metadata": {},
   "outputs": [],
   "source": [
    "import matplotlib as mpl\n",
    "mpl.rcParams['font.family'] = 'Georgia'\n",
    "mpl.rcParams['mathtext.fontset'] = 'custom'\n",
    "mpl.rcParams['mathtext.rm'] = 'Georgia'\n",
    "mpl.rcParams['mathtext.it'] = 'Georgia:italic'\n",
    "mpl.rcParams['mathtext.bf'] = 'Georgia:bold'"
   ]
  },
  {
   "cell_type": "code",
   "execution_count": 13,
   "id": "12ddd8d5",
   "metadata": {},
   "outputs": [],
   "source": [
    "def read_results(\n",
    "    model: str,                 # either 'GFH' or 'GloFAS_v3' or 'GloFAS_v4'\n",
    "    type: str,                  # either 'IMPACT' or 'OBS'\n",
    "    lead_time: List[int],       # list of lead times to read the results for\n",
    "    return_period: List[float], # list of return periods to read the results for\n",
    "    geojson: bool = False,      # if True, returns the results with GeoJSON information included\n",
    ") -> Dict[str, pd.DataFrame]:\n",
    "    \"\"\" Reads the results from the .csv files and return in dictionary with handy keys \"\"\"\n",
    "    if not all(lt in [1, 2, 3, 4, 5, 6, 7] for lt in lead_time):\n",
    "        raise ValueError(\"Lead time must be in [1, 2, 3, 4, 5, 6, 7]\")\n",
    "    if not all(rp in [1.5, 2, 5, 10, 95, 98, 99] for rp in return_period):\n",
    "        raise ValueError(\"Return period must be in [1.5, 2, 5, 10, 95, 98, 99]\")\n",
    "\n",
    "    d = {}\n",
    "    if model == 'GFH':\n",
    "        if type == 'IMPACT':\n",
    "            for lt in lead_time:\n",
    "                for rp in return_period:\n",
    "                    if rp in [1.5, 2, 5, 10]:\n",
    "                        rp_str = f'{rp}rp'\n",
    "                    else:\n",
    "                        rp_str = f'{rp}pc'\n",
    "\n",
    "                    if not geojson:\n",
    "                        key = f'GFH_vs_IMPACT_{lt * 24}lt_{rp_str}'\n",
    "                        d[key] = pd.read_csv(f'../data/results/{key}.csv', index_col = 0)\n",
    "                    else:\n",
    "                        key = f'GFH_vs_IMPACT_{lt * 24}lt_{rp_str}'\n",
    "                        d[key] = gpd.read_file(f'../data/results_geojson/{key}.geojson')\n",
    "    return d"
   ]
  },
  {
   "cell_type": "code",
   "execution_count": 21,
   "id": "62737380",
   "metadata": {},
   "outputs": [
    {
     "name": "stdout",
     "output_type": "stream",
     "text": [
      "  identifier  TP  FP  FN    POD  FAR  precision     f1 admin_unit_NAME\n",
      "0     ML0101   0   0   1  0.000  NaN        NaN    NaN       BAFOULABE\n",
      "1     ML0103   0   2   3  0.000  1.0        0.0    NaN          SANDIA\n",
      "2     ML0105   0   1   1  0.000  1.0        0.0    NaN            KITA\n",
      "3     ML0107   0   0   2  0.000  NaN        NaN    NaN        YELIMANE\n",
      "4     ML0202   1   0   5  0.167  0.0        1.0  0.286          DIOILA\n"
     ]
    }
   ],
   "source": [
    "d_GFH_IMPACT = read_results(\n",
    "    model           = 'GFH',\n",
    "    type            = 'IMPACT',\n",
    "    lead_time       = [1, 2, 3, 4, 5, 6, 7],\n",
    "    return_period   = [1.5, 2, 5, 10, 95, 98, 99],\n",
    "    geojson         = False,\n",
    ")\n",
    "\n",
    "print(next(iter(d_GFH_IMPACT.values())).head())"
   ]
  },
  {
   "cell_type": "code",
   "execution_count": 53,
   "id": "58e49cea",
   "metadata": {},
   "outputs": [],
   "source": [
    "def get_metrics_for_configuration(\n",
    "        d: Dict[str, pd.DataFrame], # the dictionary with the results\n",
    "        type: str,                  # the type of results, e.g. 'GFH_vs_IMPACT'\n",
    "        row: str,                   # where to get the metric for, i.e. in 'identifier' a location or 'total'\n",
    "        metric: str,                # the metric to calculate (TP, FP, FN, POD, FAR, precision, f1)\n",
    "    ) -> pd.DataFrame:\n",
    "    \"\"\" Returns metric dataframe with dimensions (lead_time, return_period) \"\"\"\n",
    "    if not any(key.startswith(type) for key in d.keys()):\n",
    "        raise ValueError(\"Type must be in the keys of the dictionary\")\n",
    "    if row not in next(iter(d.values()))['identifier'].unique():\n",
    "        raise ValueError(\"Row must be in the identifier column of the dataframe\")\n",
    "    if metric not in ['TP', 'FP', 'FN', 'POD', 'FAR', 'precision', 'f1']:\n",
    "        raise ValueError(\"Metric must be in ['TP', 'FP', 'FN', 'POD', 'FAR', 'precision', 'f1']\")\n",
    "    \n",
    "    lts = ['24lt', '48lt', '72lt', '96lt', '120lt', '144lt', '168lt']\n",
    "    rps = ['95pc', '98pc', '99pc', '1.5rp', '2rp', '5rp', '10rp']\n",
    "    df = pd.DataFrame(index = lts, columns = rps)\n",
    "    \n",
    "    for lt in lts:\n",
    "        for rp in rps:\n",
    "            key = f'{type}_{lt}_{rp}'\n",
    "            df.loc[lt, rp] = d[key][d[key]['identifier'] == row][metric].values[0]\n",
    "    return df"
   ]
  },
  {
   "cell_type": "code",
   "execution_count": 54,
   "id": "04bb26bd",
   "metadata": {},
   "outputs": [
    {
     "name": "stdout",
     "output_type": "stream",
     "text": [
      "        95pc   98pc   99pc  1.5rp    2rp    5rp   10rp\n",
      "24lt   0.209  0.127  0.082  0.155  0.145  0.036  0.009\n",
      "48lt     0.2  0.118  0.064  0.145  0.127  0.036  0.018\n",
      "72lt     0.2  0.127  0.082  0.155  0.145  0.036  0.018\n",
      "96lt     0.2  0.118  0.064  0.155  0.109  0.036  0.009\n",
      "120lt  0.173  0.109  0.055  0.155  0.109  0.036  0.009\n",
      "144lt  0.182    0.1  0.055  0.136  0.109  0.036  0.009\n",
      "168lt  0.182  0.109  0.055  0.155  0.118  0.036  0.009\n"
     ]
    }
   ],
   "source": [
    "df_GFH_IMPACT_POD_total = get_metrics_for_configuration(\n",
    "    d               = d_GFH_IMPACT,\n",
    "    type            = 'GFH_vs_IMPACT',\n",
    "    row             = 'total',\n",
    "    metric          = 'POD'\n",
    ")\n",
    "\n",
    "print(df_GFH_IMPACT_POD_total)"
   ]
  },
  {
   "cell_type": "code",
   "execution_count": 185,
   "id": "a0ee70cb",
   "metadata": {},
   "outputs": [],
   "source": [
    "def add_hline_across_subplots(fig, ax_ref, y, ax_left, ax_right, label, **line_kwargs):\n",
    "    # LLM-generated code:\n",
    "    import matplotlib.lines as mlines\n",
    "    display_coords = ax_ref.transData.transform((0, y))\n",
    "    y_fig = fig.transFigure.inverted().transform(display_coords)[1]\n",
    "    bbox_left  = ax_left.get_position()\n",
    "    bbox_right = ax_right.get_position()\n",
    "    line = mlines.Line2D([bbox_left.x0, bbox_right.x1],\n",
    "                         [y_fig, y_fig],\n",
    "                         transform = fig.transFigure, **line_kwargs)\n",
    "    fig.add_artist(line)\n",
    "\n",
    "    if label:\n",
    "        dummy_text = fig.text(0, 0, label, fontsize = 12)\n",
    "        fig.canvas.draw()\n",
    "        renderer = fig.canvas.get_renderer()\n",
    "        bbox = dummy_text.get_window_extent(renderer=renderer)\n",
    "        text_width_pixels = bbox.width\n",
    "        fig_width_pixels = fig.get_figwidth() * fig.dpi\n",
    "        text_width_frac = text_width_pixels / fig_width_pixels\n",
    "        dummy_text.remove()\n",
    "        x_text = bbox_right.x1 - text_width_frac\n",
    "        fig.text(x_text - 0.005, y_fig + 0.015, label,\n",
    "                 fontsize = 12, color = line_kwargs['color'])"
   ]
  },
  {
   "cell_type": "code",
   "execution_count": 195,
   "id": "fe9e3b87",
   "metadata": {},
   "outputs": [
    {
     "data": {
      "image/png": "[encoded data removed]",
      "text/plain": [
       "<Figure size 647.2x400 with 2 Axes>"
      ]
     },
     "metadata": {},
     "output_type": "display_data"
    }
   ],
   "source": [
    "def plot_POD_over_treshold(\n",
    "        df: pd.DataFrame,   # dataframe with the results\n",
    "        row_to_plot,        # the row to plot, e.g. 'total' or a certain location\n",
    "        x: str,             # x and y for naming the saved plot\n",
    "        y: str              \n",
    "    ) -> None:\n",
    "    \"\"\" Plots the POD over the thresholds \"\"\"\n",
    "    fig, (ax1, ax2) = plt.subplots(1, 2, sharey = True, figsize = (4 * 1.618, 4))\n",
    "    fig.subplots_adjust(wspace = 0.05)\n",
    "    fs = 12\n",
    "\n",
    "    columns = df.columns\n",
    "    x_values = np.arange(len(columns))\n",
    "    y_values = df.loc[row_to_plot, columns].values\n",
    "\n",
    "    ax1.set_ylabel('POD', fontsize = fs, fontweight = 'bold')\n",
    "    ax1.plot(\n",
    "        x_values[0 : 3], y_values[0 : 3],\n",
    "        color = 'black', marker = '^', label = 'Google Flood Hub'\n",
    "    )\n",
    "    ax2.plot(\n",
    "        x_values[3 : 7], y_values[3 : 7],\n",
    "        color = 'black', marker = '^'\n",
    "    )\n",
    "\n",
    "    plt.tight_layout() # Note: place this at the right place in the script to not mess up manual lay-outing\n",
    "\n",
    "    ax1.set_xlim(-0.5, 2.5)\n",
    "    ax2.set_xlim(2.5, 6.5)\n",
    "    ax1.set_xticks([0, 1, 2], fontsize = fs)\n",
    "    ax1.set_xticklabels(['95%', '98%', '99%'], fontsize = fs)\n",
    "    ax2.set_xticks([3, 4, 5, 6], fontsize = fs)\n",
    "    ax2.set_xticklabels(['1.5-yr', '2-yr', '5-yr', '10-yr'], fontsize = fs)\n",
    "    ax1.tick_params(axis = 'y', labelsize = fs)\n",
    "    ax1.spines['right'].set_visible(False)\n",
    "    ax2.spines['left'].set_visible(False)\n",
    "    ax1.yaxis.tick_left()\n",
    "    ax2.yaxis.tick_right()\n",
    "    ax1.set_ylim(0, 1)\n",
    "    ax1.legend(loc = 'upper left', fontsize = fs, frameon = False)\n",
    "\n",
    "    add_hline_across_subplots(\n",
    "        fig, ax1, 0.5, ax1, ax2, label = \"'Acceptable'\",\n",
    "        color = '#EB5B00', linestyle = '--', linewidth = 1.0\n",
    "    )\n",
    "    add_hline_across_subplots(\n",
    "        fig, ax1, 0.6, ax1, ax2, label = \"'Good'\",\n",
    "        color = '#0D4715', linestyle = '--', linewidth = 1.0\n",
    "    )\n",
    "\n",
    "    # https://matplotlib.org/stable/gallery/subplots_axes_and_figures/broken_axis.html\n",
    "    d = 0.015\n",
    "    kwargs = dict(transform = ax1.transAxes, color = 'k', clip_on = False)\n",
    "    ax1.plot((1 - d, 1 + d), (-d, d), **kwargs)\n",
    "    ax1.plot((1 - d, 1 + d), (1 - d, 1 + d), **kwargs)\n",
    "    kwargs = dict(transform = ax2.transAxes, color = 'k', clip_on = False)\n",
    "    ax2.plot((-d, d), (1 - d, 1 + d), **kwargs)        \n",
    "    ax2.plot((-d, d), (-d, d), **kwargs) \n",
    "    # --------------------------------------------------------------------------------\n",
    "\n",
    "    plt.savefig(f'../data/figures/results_{x}_vs_{y}_{row_to_plot}_total.pdf')\n",
    "    plt.show()\n",
    "\n",
    "\n",
    "plot_POD_over_treshold(\n",
    "    df              = df_GFH_IMPACT_POD_total,\n",
    "    row_to_plot     = '168lt',\n",
    "    x               = 'POD',\n",
    "    y               = 'thr'\n",
    ")"
   ]
  }
 ],
 "metadata": {
  "kernelspec": {
   "display_name": "Python 3",
   "language": "python",
   "name": "python3"
  },
  "language_info": {
   "codemirror_mode": {
    "name": "ipython",
    "version": 3
   },
   "file_extension": ".py",
   "mimetype": "text/x-python",
   "name": "python",
   "nbconvert_exporter": "python",
   "pygments_lexer": "ipython3",
   "version": "3.9.13"
  }
 },
 "nbformat": 4,
 "nbformat_minor": 5
}
