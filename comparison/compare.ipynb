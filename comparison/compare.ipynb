{
 "cells": [
  {
   "cell_type": "markdown",
   "metadata": {},
   "source": [
    "# **Comparison of GloFAS and FloodHub**"
   ]
  },
  {
   "cell_type": "code",
   "execution_count": 3,
   "metadata": {},
   "outputs": [],
   "source": [
    "import pandas as pd\n",
    "import geopandas as gpd"
   ]
  },
  {
   "cell_type": "code",
   "execution_count": 5,
   "metadata": {},
   "outputs": [
    {
     "name": "stdout",
     "output_type": "stream",
     "text": [
      "  StationName  StationName_x  StationName_y           gaugeId  gaugeId_x  \\\n",
      "0     Tossaye        -3.1796        16.4157  hybas_1120641660   -4.20625   \n",
      "1    Koryoume        -3.0333        16.6666  hybas_1120641660   -4.20625   \n",
      "\n",
      "   gaugeId_y  \n",
      "0   14.50625  \n",
      "1   14.50625  \n"
     ]
    }
   ],
   "source": [
    "point_match_GloFAS_to_GFH = pd.read_csv(\n",
    "    'data/point_matches/mali_pm_GloFAS_left_joined.csv',\n",
    "    index_col = None,\n",
    "    sep = ',',\n",
    "    decimal = '.',\n",
    "    encoding = 'utf-8'\n",
    ")\n",
    "\n",
    "print(point_match_GloFAS_to_GFH.head(2))"
   ]
  }
 ],
 "metadata": {
  "kernelspec": {
   "display_name": "Python 3",
   "language": "python",
   "name": "python3"
  },
  "language_info": {
   "codemirror_mode": {
    "name": "ipython",
    "version": 3
   },
   "file_extension": ".py",
   "mimetype": "text/x-python",
   "name": "python",
   "nbconvert_exporter": "python",
   "pygments_lexer": "ipython3",
   "version": "3.9.13"
  }
 },
 "nbformat": 4,
 "nbformat_minor": 2
}
