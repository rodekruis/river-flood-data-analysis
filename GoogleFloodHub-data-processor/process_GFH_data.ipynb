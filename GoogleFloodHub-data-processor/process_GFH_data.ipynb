{
 "cells": [
  {
   "cell_type": "markdown",
   "metadata": {},
   "source": [
    "# **Process Google FloodHub forecasts**\n",
    "\n",
    "Notebook to experiment with the Google FloodHub forecasts. "
   ]
  }
 ],
 "metadata": {
  "language_info": {
   "name": "python"
  }
 },
 "nbformat": 4,
 "nbformat_minor": 2
}
